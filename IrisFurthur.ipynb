{
 "cells": [
  {
   "cell_type": "markdown",
   "id": "81840f1d-9f78-4294-926b-5aa4cf7e3c71",
   "metadata": {},
   "source": [
    "*****Dataset Information***** \\\n",
    "*The data set contains 3 classes of 50 instances each. Whereeach class refers to type of iris plant . One class is linearly seperable from the other 2 ; The later is NOT linearly seperable from each other*"
   ]
  },
  {
   "cell_type": "markdown",
   "id": "9dd0abe8-100d-4f7e-8cbd-d457844a3e23",
   "metadata": {},
   "source": [
    "*Attribute information :* \\\n",
    "1.Sepal Length in cm   \\\n",
    "2.Sepal Width in cm    \\\n",
    "3.Petal Length in cm   \\\n",
    "4.Petal Width in cm    "
   ]
  },
  {
   "cell_type": "markdown",
   "id": "435aa025-2c3a-44a2-ba47-6202242645ec",
   "metadata": {},
   "source": [
    "5.class : -- Iris Setosa -- Iris Versicolour -- Iris Virginica"
   ]
  },
  {
   "cell_type": "markdown",
   "id": "ca3cd0e3-0e7b-4db6-8791-549ae8f86b84",
   "metadata": {},
   "source": [
    "***Imprt Modules***"
   ]
  },
  {
   "cell_type": "code",
   "execution_count": null,
   "id": "374247ed-84f6-4041-adc5-69a314c8ff3b",
   "metadata": {},
   "outputs": [],
   "source": []
  }
 ],
 "metadata": {
  "kernelspec": {
   "display_name": "Python 3 (ipykernel)",
   "language": "python",
   "name": "python3"
  },
  "language_info": {
   "codemirror_mode": {
    "name": "ipython",
    "version": 3
   },
   "file_extension": ".py",
   "mimetype": "text/x-python",
   "name": "python",
   "nbconvert_exporter": "python",
   "pygments_lexer": "ipython3",
   "version": "3.11.5"
  }
 },
 "nbformat": 4,
 "nbformat_minor": 5
}
